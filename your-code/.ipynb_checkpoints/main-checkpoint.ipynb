{
 "cells": [
  {
   "cell_type": "markdown",
   "metadata": {},
   "source": [
    "# Before your start:\n",
    "- Read the README.md file\n",
    "- Comment as much as you can and use the resources (README.md file)\n",
    "- Happy learning!"
   ]
  },
  {
   "cell_type": "code",
   "execution_count": 92,
   "metadata": {},
   "outputs": [],
   "source": [
    "# import numpy and pandas\n",
    "\n",
    "import pandas as pd\n",
    "pd.set_option('display.max_columns', None)\n",
    "pd.set_option('display.max_rows', None)\n",
    "\n",
    "import numpy as np\n",
    "import scipy.stats as stats\n"
   ]
  },
  {
   "cell_type": "markdown",
   "metadata": {},
   "source": [
    "# Challenge 1 - Exploring the Data\n",
    "\n",
    "In this challenge, we will examine all salaries of employees of the City of Chicago. We will start by loading the dataset and examining its contents"
   ]
  },
  {
   "cell_type": "code",
   "execution_count": 2,
   "metadata": {},
   "outputs": [],
   "source": [
    "# Run this code:\n",
    "\n",
    "salaries = pd.read_csv('../Current_Employee_Names__Salaries__and_Position_Titles.csv')"
   ]
  },
  {
   "cell_type": "markdown",
   "metadata": {},
   "source": [
    "Examine the `salaries` dataset using the `head` function below."
   ]
  },
  {
   "cell_type": "code",
   "execution_count": 3,
   "metadata": {},
   "outputs": [
    {
     "data": {
      "text/html": [
       "<div>\n",
       "<style scoped>\n",
       "    .dataframe tbody tr th:only-of-type {\n",
       "        vertical-align: middle;\n",
       "    }\n",
       "\n",
       "    .dataframe tbody tr th {\n",
       "        vertical-align: top;\n",
       "    }\n",
       "\n",
       "    .dataframe thead th {\n",
       "        text-align: right;\n",
       "    }\n",
       "</style>\n",
       "<table border=\"1\" class=\"dataframe\">\n",
       "  <thead>\n",
       "    <tr style=\"text-align: right;\">\n",
       "      <th></th>\n",
       "      <th>Name</th>\n",
       "      <th>Job Titles</th>\n",
       "      <th>Department</th>\n",
       "      <th>Full or Part-Time</th>\n",
       "      <th>Salary or Hourly</th>\n",
       "      <th>Typical Hours</th>\n",
       "      <th>Annual Salary</th>\n",
       "      <th>Hourly Rate</th>\n",
       "    </tr>\n",
       "  </thead>\n",
       "  <tbody>\n",
       "    <tr>\n",
       "      <th>0</th>\n",
       "      <td>AARON,  JEFFERY M</td>\n",
       "      <td>SERGEANT</td>\n",
       "      <td>POLICE</td>\n",
       "      <td>F</td>\n",
       "      <td>Salary</td>\n",
       "      <td>NaN</td>\n",
       "      <td>101442.0</td>\n",
       "      <td>NaN</td>\n",
       "    </tr>\n",
       "    <tr>\n",
       "      <th>1</th>\n",
       "      <td>AARON,  KARINA</td>\n",
       "      <td>POLICE OFFICER (ASSIGNED AS DETECTIVE)</td>\n",
       "      <td>POLICE</td>\n",
       "      <td>F</td>\n",
       "      <td>Salary</td>\n",
       "      <td>NaN</td>\n",
       "      <td>94122.0</td>\n",
       "      <td>NaN</td>\n",
       "    </tr>\n",
       "    <tr>\n",
       "      <th>2</th>\n",
       "      <td>AARON,  KIMBERLEI R</td>\n",
       "      <td>CHIEF CONTRACT EXPEDITER</td>\n",
       "      <td>GENERAL SERVICES</td>\n",
       "      <td>F</td>\n",
       "      <td>Salary</td>\n",
       "      <td>NaN</td>\n",
       "      <td>101592.0</td>\n",
       "      <td>NaN</td>\n",
       "    </tr>\n",
       "    <tr>\n",
       "      <th>3</th>\n",
       "      <td>ABAD JR,  VICENTE M</td>\n",
       "      <td>CIVIL ENGINEER IV</td>\n",
       "      <td>WATER MGMNT</td>\n",
       "      <td>F</td>\n",
       "      <td>Salary</td>\n",
       "      <td>NaN</td>\n",
       "      <td>110064.0</td>\n",
       "      <td>NaN</td>\n",
       "    </tr>\n",
       "    <tr>\n",
       "      <th>4</th>\n",
       "      <td>ABASCAL,  REECE E</td>\n",
       "      <td>TRAFFIC CONTROL AIDE-HOURLY</td>\n",
       "      <td>OEMC</td>\n",
       "      <td>P</td>\n",
       "      <td>Hourly</td>\n",
       "      <td>20.0</td>\n",
       "      <td>NaN</td>\n",
       "      <td>19.86</td>\n",
       "    </tr>\n",
       "  </tbody>\n",
       "</table>\n",
       "</div>"
      ],
      "text/plain": [
       "                  Name                              Job Titles  \\\n",
       "0    AARON,  JEFFERY M                                SERGEANT   \n",
       "1      AARON,  KARINA   POLICE OFFICER (ASSIGNED AS DETECTIVE)   \n",
       "2  AARON,  KIMBERLEI R                CHIEF CONTRACT EXPEDITER   \n",
       "3  ABAD JR,  VICENTE M                       CIVIL ENGINEER IV   \n",
       "4    ABASCAL,  REECE E             TRAFFIC CONTROL AIDE-HOURLY   \n",
       "\n",
       "         Department Full or Part-Time Salary or Hourly  Typical Hours  \\\n",
       "0            POLICE                 F           Salary            NaN   \n",
       "1            POLICE                 F           Salary            NaN   \n",
       "2  GENERAL SERVICES                 F           Salary            NaN   \n",
       "3       WATER MGMNT                 F           Salary            NaN   \n",
       "4              OEMC                 P           Hourly           20.0   \n",
       "\n",
       "   Annual Salary  Hourly Rate  \n",
       "0       101442.0          NaN  \n",
       "1        94122.0          NaN  \n",
       "2       101592.0          NaN  \n",
       "3       110064.0          NaN  \n",
       "4            NaN        19.86  "
      ]
     },
     "execution_count": 3,
     "metadata": {},
     "output_type": "execute_result"
    }
   ],
   "source": [
    "# Your code here:\n",
    "salaries.head()\n"
   ]
  },
  {
   "cell_type": "markdown",
   "metadata": {},
   "source": [
    "We see from looking at the `head` function that there is quite a bit of missing data. Let's examine how much missing data is in each column. Produce this output in the cell below"
   ]
  },
  {
   "cell_type": "code",
   "execution_count": 7,
   "metadata": {},
   "outputs": [
    {
     "data": {
      "text/plain": [
       "Typical Hours    25161\n",
       "Annual Salary     8022\n",
       "Hourly Rate      25161\n",
       "dtype: int64"
      ]
     },
     "execution_count": 7,
     "metadata": {},
     "output_type": "execute_result"
    }
   ],
   "source": [
    "# Your code here:\n",
    "\n",
    "valoresperdidos = salaries.isnull().sum()\n",
    "valoresperdidos[valoresperdidos>0]\n"
   ]
  },
  {
   "cell_type": "markdown",
   "metadata": {},
   "source": [
    "Let's also look at the count of hourly vs. salaried employees. Write the code in the cell below"
   ]
  },
  {
   "cell_type": "code",
   "execution_count": 24,
   "metadata": {},
   "outputs": [
    {
     "data": {
      "text/plain": [
       "8022"
      ]
     },
     "execution_count": 24,
     "metadata": {},
     "output_type": "execute_result"
    }
   ],
   "source": [
    "# Your code here:\n",
    "\n",
    "porhora = salaries[\"Salary or Hourly\"].value_counts()[\"Hourly\"]\n",
    "porhora\n"
   ]
  },
  {
   "cell_type": "code",
   "execution_count": 23,
   "metadata": {},
   "outputs": [
    {
     "data": {
      "text/plain": [
       "25161"
      ]
     },
     "execution_count": 23,
     "metadata": {},
     "output_type": "execute_result"
    }
   ],
   "source": [
    "porsalario = salaries[\"Salary or Hourly\"].value_counts()[\"Salary\"]\n",
    "porsalario"
   ]
  },
  {
   "cell_type": "markdown",
   "metadata": {},
   "source": [
    "What this information indicates is that the table contains information about two types of employees - salaried and hourly. Some columns apply only to one type of employee while other columns only apply to another kind. This is why there are so many missing values. Therefore, we will not do anything to handle the missing values."
   ]
  },
  {
   "cell_type": "markdown",
   "metadata": {},
   "source": [
    "There are different departments in the city. List all departments and the count of employees in each department."
   ]
  },
  {
   "cell_type": "code",
   "execution_count": 75,
   "metadata": {},
   "outputs": [
    {
     "data": {
      "text/plain": [
       "33183"
      ]
     },
     "execution_count": 75,
     "metadata": {},
     "output_type": "execute_result"
    }
   ],
   "source": [
    "len(salaries['Name'])"
   ]
  },
  {
   "cell_type": "code",
   "execution_count": 26,
   "metadata": {},
   "outputs": [
    {
     "data": {
      "text/html": [
       "<div>\n",
       "<style scoped>\n",
       "    .dataframe tbody tr th:only-of-type {\n",
       "        vertical-align: middle;\n",
       "    }\n",
       "\n",
       "    .dataframe tbody tr th {\n",
       "        vertical-align: top;\n",
       "    }\n",
       "\n",
       "    .dataframe thead th {\n",
       "        text-align: right;\n",
       "    }\n",
       "</style>\n",
       "<table border=\"1\" class=\"dataframe\">\n",
       "  <thead>\n",
       "    <tr style=\"text-align: right;\">\n",
       "      <th></th>\n",
       "      <th>Department</th>\n",
       "      <th>Numero_empleados</th>\n",
       "    </tr>\n",
       "  </thead>\n",
       "  <tbody>\n",
       "    <tr>\n",
       "      <th>0</th>\n",
       "      <td>ADMIN HEARNG</td>\n",
       "      <td>39</td>\n",
       "    </tr>\n",
       "    <tr>\n",
       "      <th>1</th>\n",
       "      <td>ANIMAL CONTRL</td>\n",
       "      <td>81</td>\n",
       "    </tr>\n",
       "    <tr>\n",
       "      <th>2</th>\n",
       "      <td>AVIATION</td>\n",
       "      <td>1629</td>\n",
       "    </tr>\n",
       "    <tr>\n",
       "      <th>3</th>\n",
       "      <td>BOARD OF ELECTION</td>\n",
       "      <td>107</td>\n",
       "    </tr>\n",
       "    <tr>\n",
       "      <th>4</th>\n",
       "      <td>BOARD OF ETHICS</td>\n",
       "      <td>8</td>\n",
       "    </tr>\n",
       "    <tr>\n",
       "      <th>5</th>\n",
       "      <td>BUDGET &amp; MGMT</td>\n",
       "      <td>46</td>\n",
       "    </tr>\n",
       "    <tr>\n",
       "      <th>6</th>\n",
       "      <td>BUILDINGS</td>\n",
       "      <td>269</td>\n",
       "    </tr>\n",
       "    <tr>\n",
       "      <th>7</th>\n",
       "      <td>BUSINESS AFFAIRS</td>\n",
       "      <td>171</td>\n",
       "    </tr>\n",
       "    <tr>\n",
       "      <th>8</th>\n",
       "      <td>CITY CLERK</td>\n",
       "      <td>84</td>\n",
       "    </tr>\n",
       "    <tr>\n",
       "      <th>9</th>\n",
       "      <td>CITY COUNCIL</td>\n",
       "      <td>411</td>\n",
       "    </tr>\n",
       "    <tr>\n",
       "      <th>10</th>\n",
       "      <td>COMMUNITY DEVELOPMENT</td>\n",
       "      <td>207</td>\n",
       "    </tr>\n",
       "    <tr>\n",
       "      <th>11</th>\n",
       "      <td>COPA</td>\n",
       "      <td>116</td>\n",
       "    </tr>\n",
       "    <tr>\n",
       "      <th>12</th>\n",
       "      <td>CULTURAL AFFAIRS</td>\n",
       "      <td>65</td>\n",
       "    </tr>\n",
       "    <tr>\n",
       "      <th>13</th>\n",
       "      <td>DISABILITIES</td>\n",
       "      <td>28</td>\n",
       "    </tr>\n",
       "    <tr>\n",
       "      <th>14</th>\n",
       "      <td>DoIT</td>\n",
       "      <td>99</td>\n",
       "    </tr>\n",
       "    <tr>\n",
       "      <th>15</th>\n",
       "      <td>FAMILY &amp; SUPPORT</td>\n",
       "      <td>615</td>\n",
       "    </tr>\n",
       "    <tr>\n",
       "      <th>16</th>\n",
       "      <td>FINANCE</td>\n",
       "      <td>560</td>\n",
       "    </tr>\n",
       "    <tr>\n",
       "      <th>17</th>\n",
       "      <td>FIRE</td>\n",
       "      <td>4641</td>\n",
       "    </tr>\n",
       "    <tr>\n",
       "      <th>18</th>\n",
       "      <td>GENERAL SERVICES</td>\n",
       "      <td>980</td>\n",
       "    </tr>\n",
       "    <tr>\n",
       "      <th>19</th>\n",
       "      <td>HEALTH</td>\n",
       "      <td>488</td>\n",
       "    </tr>\n",
       "    <tr>\n",
       "      <th>20</th>\n",
       "      <td>HUMAN RELATIONS</td>\n",
       "      <td>16</td>\n",
       "    </tr>\n",
       "    <tr>\n",
       "      <th>21</th>\n",
       "      <td>HUMAN RESOURCES</td>\n",
       "      <td>79</td>\n",
       "    </tr>\n",
       "    <tr>\n",
       "      <th>22</th>\n",
       "      <td>INSPECTOR GEN</td>\n",
       "      <td>87</td>\n",
       "    </tr>\n",
       "    <tr>\n",
       "      <th>23</th>\n",
       "      <td>LAW</td>\n",
       "      <td>407</td>\n",
       "    </tr>\n",
       "    <tr>\n",
       "      <th>24</th>\n",
       "      <td>LICENSE APPL COMM</td>\n",
       "      <td>1</td>\n",
       "    </tr>\n",
       "    <tr>\n",
       "      <th>25</th>\n",
       "      <td>MAYOR'S OFFICE</td>\n",
       "      <td>85</td>\n",
       "    </tr>\n",
       "    <tr>\n",
       "      <th>26</th>\n",
       "      <td>OEMC</td>\n",
       "      <td>2102</td>\n",
       "    </tr>\n",
       "    <tr>\n",
       "      <th>27</th>\n",
       "      <td>POLICE</td>\n",
       "      <td>13414</td>\n",
       "    </tr>\n",
       "    <tr>\n",
       "      <th>28</th>\n",
       "      <td>POLICE BOARD</td>\n",
       "      <td>2</td>\n",
       "    </tr>\n",
       "    <tr>\n",
       "      <th>29</th>\n",
       "      <td>PROCUREMENT</td>\n",
       "      <td>92</td>\n",
       "    </tr>\n",
       "    <tr>\n",
       "      <th>30</th>\n",
       "      <td>PUBLIC LIBRARY</td>\n",
       "      <td>1015</td>\n",
       "    </tr>\n",
       "    <tr>\n",
       "      <th>31</th>\n",
       "      <td>STREETS &amp; SAN</td>\n",
       "      <td>2198</td>\n",
       "    </tr>\n",
       "    <tr>\n",
       "      <th>32</th>\n",
       "      <td>TRANSPORTN</td>\n",
       "      <td>1140</td>\n",
       "    </tr>\n",
       "    <tr>\n",
       "      <th>33</th>\n",
       "      <td>TREASURER</td>\n",
       "      <td>22</td>\n",
       "    </tr>\n",
       "    <tr>\n",
       "      <th>34</th>\n",
       "      <td>WATER MGMNT</td>\n",
       "      <td>1879</td>\n",
       "    </tr>\n",
       "  </tbody>\n",
       "</table>\n",
       "</div>"
      ],
      "text/plain": [
       "               Department  Numero_empleados\n",
       "0            ADMIN HEARNG                39\n",
       "1           ANIMAL CONTRL                81\n",
       "2                AVIATION              1629\n",
       "3       BOARD OF ELECTION               107\n",
       "4         BOARD OF ETHICS                 8\n",
       "5           BUDGET & MGMT                46\n",
       "6               BUILDINGS               269\n",
       "7        BUSINESS AFFAIRS               171\n",
       "8              CITY CLERK                84\n",
       "9            CITY COUNCIL               411\n",
       "10  COMMUNITY DEVELOPMENT               207\n",
       "11                   COPA               116\n",
       "12       CULTURAL AFFAIRS                65\n",
       "13           DISABILITIES                28\n",
       "14                   DoIT                99\n",
       "15       FAMILY & SUPPORT               615\n",
       "16                FINANCE               560\n",
       "17                   FIRE              4641\n",
       "18       GENERAL SERVICES               980\n",
       "19                 HEALTH               488\n",
       "20        HUMAN RELATIONS                16\n",
       "21        HUMAN RESOURCES                79\n",
       "22          INSPECTOR GEN                87\n",
       "23                    LAW               407\n",
       "24      LICENSE APPL COMM                 1\n",
       "25         MAYOR'S OFFICE                85\n",
       "26                   OEMC              2102\n",
       "27                 POLICE             13414\n",
       "28           POLICE BOARD                 2\n",
       "29            PROCUREMENT                92\n",
       "30         PUBLIC LIBRARY              1015\n",
       "31          STREETS & SAN              2198\n",
       "32             TRANSPORTN              1140\n",
       "33              TREASURER                22\n",
       "34            WATER MGMNT              1879"
      ]
     },
     "execution_count": 26,
     "metadata": {},
     "output_type": "execute_result"
    }
   ],
   "source": [
    "# Your code here:\n",
    "numeroempleados = salaries.groupby('Department').size().reset_index(name='Numero_empleados')\n",
    "numeroempleados\n"
   ]
  },
  {
   "cell_type": "code",
   "execution_count": 72,
   "metadata": {},
   "outputs": [
    {
     "data": {
      "text/plain": [
       "Department\n",
       "ADMIN HEARNG                39\n",
       "ANIMAL CONTRL               81\n",
       "AVIATION                  1629\n",
       "BOARD OF ELECTION          107\n",
       "BOARD OF ETHICS              8\n",
       "BUDGET & MGMT               46\n",
       "BUILDINGS                  269\n",
       "BUSINESS AFFAIRS           171\n",
       "CITY CLERK                  84\n",
       "CITY COUNCIL               411\n",
       "COMMUNITY DEVELOPMENT      207\n",
       "COPA                       116\n",
       "CULTURAL AFFAIRS            65\n",
       "DISABILITIES                28\n",
       "DoIT                        99\n",
       "FAMILY & SUPPORT           615\n",
       "FINANCE                    560\n",
       "FIRE                      4641\n",
       "GENERAL SERVICES           980\n",
       "HEALTH                     488\n",
       "HUMAN RELATIONS             16\n",
       "HUMAN RESOURCES             79\n",
       "INSPECTOR GEN               87\n",
       "LAW                        407\n",
       "LICENSE APPL COMM            1\n",
       "MAYOR'S OFFICE              85\n",
       "OEMC                      2102\n",
       "POLICE                   13414\n",
       "POLICE BOARD                 2\n",
       "PROCUREMENT                 92\n",
       "PUBLIC LIBRARY            1015\n",
       "STREETS & SAN             2198\n",
       "TRANSPORTN                1140\n",
       "TREASURER                   22\n",
       "WATER MGMNT               1879\n",
       "Name: Numero_empleados, dtype: int64"
      ]
     },
     "execution_count": 72,
     "metadata": {},
     "output_type": "execute_result"
    }
   ],
   "source": [
    "numeroempleados.groupby(\"Department\")[\"Numero_empleados\"].sum()\n",
    "\n"
   ]
  },
  {
   "cell_type": "markdown",
   "metadata": {},
   "source": [
    "# Challenge 2 - Hypothesis Tests\n",
    "\n",
    "In this section of the lab, we will test whether the hourly wage of all hourly workers is significantly different from $30/hr. Import the correct one sample test function from scipy and perform the hypothesis test for a 95% two sided confidence interval."
   ]
  },
  {
   "cell_type": "markdown",
   "metadata": {},
   "source": [
    "- H0\n",
    "Hipótesis nula. (H0). H0 es el status quo, el mainstream, la hipótesis a vencer por el investigador.\n",
    "- H1\n",
    "Hipótesis alternativa. (H1). H1 es la nueva hipótesis, la del investigador."
   ]
  },
  {
   "cell_type": "code",
   "execution_count": 27,
   "metadata": {},
   "outputs": [],
   "source": [
    "# Your code here:\n",
    "from scipy.stats import ttest_1samp\n"
   ]
  },
  {
   "cell_type": "code",
   "execution_count": 34,
   "metadata": {},
   "outputs": [],
   "source": [
    "from scipy.stats import shapiro"
   ]
  },
  {
   "cell_type": "code",
   "execution_count": 59,
   "metadata": {},
   "outputs": [],
   "source": [
    "# Definimos el nivel de confianza\n",
    "nivel_confianza = 0.95\n",
    "\n",
    "# Obtener los datos de salario por hora\n",
    "\n",
    "hourly_rate = salaries[\"Hourly Rate\"].dropna()\n",
    "\n",
    "# Realizar la prueba de hipótesis\n",
    "\n",
    "t_statistic, p_value = ttest_1samp(hourly_rate, 30)"
   ]
  },
  {
   "cell_type": "code",
   "execution_count": 52,
   "metadata": {},
   "outputs": [
    {
     "data": {
      "text/plain": [
       "4.3230240486229894e-92"
      ]
     },
     "execution_count": 52,
     "metadata": {},
     "output_type": "execute_result"
    }
   ],
   "source": [
    "p_value # al ser tan baja no podemos coger la hipotesis."
   ]
  },
  {
   "cell_type": "markdown",
   "metadata": {},
   "source": [
    "Probamos a ver si es normal la muestra"
   ]
  },
  {
   "cell_type": "code",
   "execution_count": 35,
   "metadata": {},
   "outputs": [
    {
     "name": "stderr",
     "output_type": "stream",
     "text": [
      "/Volumes/Esteban/APLICACIONES/anaconda3/lib/python3.10/site-packages/scipy/stats/_morestats.py:1816: UserWarning: p-value may not be accurate for N > 5000.\n",
      "  warnings.warn(\"p-value may not be accurate for N > 5000.\")\n"
     ]
    },
    {
     "data": {
      "text/plain": [
       "ShapiroResult(statistic=0.930728554725647, pvalue=0.0)"
      ]
     },
     "execution_count": 35,
     "metadata": {},
     "output_type": "execute_result"
    }
   ],
   "source": [
    "shapiro(hourly_rate)"
   ]
  },
  {
   "cell_type": "code",
   "execution_count": 46,
   "metadata": {},
   "outputs": [
    {
     "name": "stdout",
     "output_type": "stream",
     "text": [
      "Prueba de normalidad de Anderson-Darling en el salario por hora\n",
      "Estadístico de prueba: 226.04611900352393\n",
      "Valores críticos: [0.576 0.656 0.787 0.918 1.091]\n",
      "Niveles de significancia correspondientes: [15.  10.   5.   2.5  1. ]\n"
     ]
    }
   ],
   "source": [
    "from scipy.stats import anderson\n",
    "\n",
    "# Obtener los datos de salario por hora\n",
    "hourly_rate = salaries[\"Hourly Rate\"].dropna()\n",
    "\n",
    "# Realizar la prueba de normalidad de Anderson-Darling\n",
    "result = anderson(hourly_rate)\n",
    "\n",
    "# Imprimir los resultados\n",
    "print(\"Prueba de normalidad de Anderson-Darling en el salario por hora\")\n",
    "print(\"Estadístico de prueba:\", result.statistic)\n",
    "print(\"Valores críticos:\", result.critical_values)\n",
    "print(\"Niveles de significancia correspondientes:\", result.significance_level)"
   ]
  },
  {
   "cell_type": "markdown",
   "metadata": {},
   "source": [
    " Si el estadístico de prueba es mayor que los valores críticos para un nivel de significancia específico, se rechaza la hipótesis nula de que los datos siguen una distribución normal. Si el estadístico de prueba es menor que los valores críticos, no se rechaza la hipótesis nula y se concluye que los datos pueden considerarse normalmente distribuidos."
   ]
  },
  {
   "cell_type": "markdown",
   "metadata": {},
   "source": [
    "Un valor p tan pequeño indica que hay una evidencia muy fuerte en contra de la hipótesis nula de que los datos se distribuyen normalmente. En otras palabras, se rechaza la hipótesis nula y se concluye que los datos no siguen una distribución normal."
   ]
  },
  {
   "cell_type": "markdown",
   "metadata": {},
   "source": [
    "Observamos que la muestra no es normal, por lo que procedemos a normalizar la muestra"
   ]
  },
  {
   "cell_type": "code",
   "execution_count": 49,
   "metadata": {},
   "outputs": [
    {
     "data": {
      "text/plain": [
       "4     -95.599366\n",
       "6      98.430580\n",
       "7      20.789024\n",
       "10   -222.857574\n",
       "18   -111.719232\n",
       "19     98.430580\n",
       "21    -83.990105\n",
       "24     20.789024\n",
       "26    -56.852532\n",
       "33    -94.564145\n",
       "Name: Hourly Rate, dtype: float64"
      ]
     },
     "execution_count": 49,
     "metadata": {},
     "output_type": "execute_result"
    }
   ],
   "source": [
    "# normalizando (standarizacion) a mano\n",
    "\n",
    "normalhourlyrate = (hourly_rate - hourly_rate.mean())/(hourly_rate.std()/np.sqrt(len(hourly_rate)))\n",
    "\n",
    "# N(0, 1) normal media=0 std=1                               \n",
    "\n",
    "normalhourlyrate[:10]"
   ]
  },
  {
   "cell_type": "code",
   "execution_count": 77,
   "metadata": {},
   "outputs": [
    {
     "name": "stdout",
     "output_type": "stream",
     "text": [
      "Prueba de hipótesis de una muestra para el salario por hora\n",
      "Nivel de confianza: 95.0 %\n",
      "Estadístico de prueba (t-statistic): -5.759452860890649e-14\n",
      "Valor p (p-value): 0.999999999999954\n",
      "Intervalo de confianza: (-1.2116903504194741e-27, -1.151890572178117e-13)\n",
      "Resultado de la hipótesis: No se rechaza la hipótesis nula\n"
     ]
    }
   ],
   "source": [
    "\n",
    "# Realizar la prueba de hipótesis (una muestra)\n",
    "t_statistic, p_value = ttest_1samp(normalhourlyrate, popmean=0)\n",
    "\n",
    "# Calcular el intervalo de confianza\n",
    "confidence_interval = (normalhourlyrate.mean() - t_statistic * normalhourlyrate.std() / np.sqrt(len(normalhourlyrate)),\n",
    "                       normalhourlyrate.mean() + t_statistic * normalhourlyrate.std() / np.sqrt(len(normalhourlyrate)))\n",
    "\n",
    "# Verificar si la hipótesis nula es rechazada o no\n",
    "if p_value < (1 - nivel_confianza):\n",
    "    hypothesis_result = \"Se rechaza la hipótesis nula\"\n",
    "else:\n",
    "    hypothesis_result = \"No se rechaza la hipótesis nula\"\n",
    "\n",
    "# Imprimir los resultados\n",
    "print(\"Prueba de hipótesis de una muestra para el salario por hora\")\n",
    "print(\"Nivel de confianza:\", nivel_confianza * 100, \"%\")\n",
    "print(\"Estadístico de prueba (t-statistic):\", t_statistic)\n",
    "print(\"Valor p (p-value):\", p_value)\n",
    "print(\"Intervalo de confianza:\", confidence_interval)\n",
    "print(\"Resultado de la hipótesis:\", hypothesis_result)"
   ]
  },
  {
   "cell_type": "markdown",
   "metadata": {},
   "source": [
    "We are also curious about salaries in the police force. The chief of police in Chicago claimed in a press briefing that salaries this year are higher than last year's mean of $86000/year a year for all salaried employees. Test this one sided hypothesis using a 95% confidence interval.\n",
    "\n",
    "Hint: A one tailed test has a p-value that is half of the two tailed p-value. If our hypothesis is greater than, then to reject, the test statistic must also be positive."
   ]
  },
  {
   "cell_type": "markdown",
   "metadata": {},
   "source": [
    "1. Obtén una muestra de salarios del departamento de policía para el año actual.\n",
    "2. Calcula la media de la muestra (media_muestra) y la desviación estándar de la muestra (desviacion_estandar_muestra) de los salarios.\n",
    "4. Define las hipótesis nula y alternativa:\n",
    "  - Hipótesis nula (H0): Los salarios actuales en el departamento de policía son menores o iguale 86,000/año.\n",
    "  - Hipótesis alternativa (Ha): Los salarios actuales en el departamento de policía son mayores a 86,000/año.\n",
    "5. Decide el nivel de significancia (alfa) para la prueba. En este caso, utilizaremos un nivel de confianza del 95%, por lo que alfa = 0.05.\n",
    "\n",
    "6. Calcula el valor t utilizando la fórmula: valor_t = (media_muestra - media_hipotetica) / (desviacion_estandar_muestra / sqrt(tamaño_muestra)), donde media_hipotetica es 86,000/año y tamaño_muestra es el tamaño de la muestra.\n",
    "\n",
    "7. Calcula el valor p para la prueba unidireccional utilizando la distribución t con tamaño_muestra - 1 grados de libertad: valor_p = 1 - stats.t.cdf(valor_t, df=tamaño_muestra-1).\n",
    "\n",
    "8. Compara el valor p con alfa y toma una decisión. Si el valor p es menor que alfa, rechazamos la hipótesis nula; de lo contrario, no podemos rechazar la hipótesis nula.\n"
   ]
  },
  {
   "cell_type": "code",
   "execution_count": 81,
   "metadata": {},
   "outputs": [
    {
     "data": {
      "text/plain": [
       "0     101442.0\n",
       "1      94122.0\n",
       "9      93354.0\n",
       "11     84054.0\n",
       "12     87006.0\n",
       "Name: Annual Salary, dtype: float64"
      ]
     },
     "execution_count": 81,
     "metadata": {},
     "output_type": "execute_result"
    }
   ],
   "source": [
    "#1 \n",
    "police_salaries = salaries[(salaries['Department'] == 'POLICE') & (salaries['Salary or Hourly'] == 'Salary')]['Annual Salary']\n",
    "police_salaries.head()"
   ]
  },
  {
   "cell_type": "code",
   "execution_count": 85,
   "metadata": {},
   "outputs": [],
   "source": [
    "#2\n",
    "sample_mean = police_salaries.mean()\n",
    "sample_std = police_salaries.std()\n"
   ]
  },
  {
   "cell_type": "code",
   "execution_count": 86,
   "metadata": {},
   "outputs": [],
   "source": [
    "#3\n",
    "hypothesized_mean = 86000"
   ]
  },
  {
   "cell_type": "code",
   "execution_count": 88,
   "metadata": {},
   "outputs": [
    {
     "data": {
      "text/plain": [
       "13404"
      ]
     },
     "execution_count": 88,
     "metadata": {},
     "output_type": "execute_result"
    }
   ],
   "source": [
    "#4\n",
    "sample_size = len(police_salaries)\n",
    "sample_size"
   ]
  },
  {
   "cell_type": "code",
   "execution_count": 90,
   "metadata": {},
   "outputs": [
    {
     "data": {
      "text/plain": [
       "3.08199700571315"
      ]
     },
     "execution_count": 90,
     "metadata": {},
     "output_type": "execute_result"
    }
   ],
   "source": [
    "#5\n",
    "t_score = (sample_mean - hypothesized_mean) / (sample_std / np.sqrt(sample_size))\n",
    "t_score"
   ]
  },
  {
   "cell_type": "code",
   "execution_count": 94,
   "metadata": {},
   "outputs": [
    {
     "data": {
      "text/plain": [
       "0.0010301701775476957"
      ]
     },
     "execution_count": 94,
     "metadata": {},
     "output_type": "execute_result"
    }
   ],
   "source": [
    "#6\n",
    "p_value = 1 - stats.t.cdf(t_score, df=sample_size-1)\n",
    "p_value"
   ]
  },
  {
   "cell_type": "code",
   "execution_count": 99,
   "metadata": {},
   "outputs": [
    {
     "data": {
      "text/plain": [
       "(86177.05631531785, 86795.77269094893)"
      ]
     },
     "execution_count": 99,
     "metadata": {},
     "output_type": "execute_result"
    }
   ],
   "source": [
    "#7\n",
    "nivel_confianza = 0.95\n",
    "confidence_interval = stats.t.interval(nivel_confianza, df=sample_size-1, loc=sample_mean, scale=sample_std/np.sqrt(sample_size))\n",
    "confidence_interval"
   ]
  },
  {
   "cell_type": "code",
   "execution_count": 96,
   "metadata": {},
   "outputs": [],
   "source": [
    "#8\n",
    "if p_value < (1 - nivel_confianza):\n",
    "    hypothesis_result = \"Se rechaza la hipótesis nula\"\n",
    "else:\n",
    "    hypothesis_result = \"No se rechaza la hipótesis nula\""
   ]
  },
  {
   "cell_type": "code",
   "execution_count": 98,
   "metadata": {},
   "outputs": [
    {
     "name": "stdout",
     "output_type": "stream",
     "text": [
      "Prueba de hipótesis: Salarios en el departamento de policía\n",
      "Nivel de confianza: 95.0 %\n",
      "Estadístico de prueba (t-score): 3.08199700571315\n",
      "Valor p (p-value): 0.0010301701775476957\n",
      "Intervalo de confianza: (86177.05631531785, 86795.77269094893)\n",
      "Resultado de la hipótesis: Se rechaza la hipótesis nula\n"
     ]
    }
   ],
   "source": [
    "# Your code here:\n",
    "\n",
    "print(\"Prueba de hipótesis: Salarios en el departamento de policía\")\n",
    "print(\"Nivel de confianza:\", nivel_confianza * 100, \"%\")\n",
    "print(\"Estadístico de prueba (t-score):\", t_score)\n",
    "print(\"Valor p (p-value):\", p_value)\n",
    "print(\"Intervalo de confianza:\", confidence_interval)\n",
    "print(\"Resultado de la hipótesis:\", hypothesis_result)"
   ]
  },
  {
   "cell_type": "markdown",
   "metadata": {},
   "source": [
    "Basado en la prueba de hipótesis con un nivel de confianza del 95%, se rechaza la hipótesis nula de que los salarios en el departamento de policía sean menores o iguales a 86,000/año. El valor p obtenido es 0.00103, lo cual es menor que el nivel de significancia establecido (0.05), lo que indica que hay suficiente evidencia para concluir que los salarios en el departamento de policía son mayores a la media del año pasado de 86,000/año.\n",
    "\n",
    "Además, el intervalo de confianza calculado para la media de los salarios en el departamento de policía se encuentra entre 86,177 y 86,796, lo cual respalda la conclusión de que los salarios actuales son mayores que la media del año pasado.\n",
    "\n",
    "Es importante tener en cuenta que estos resultados se basan en la muestra proporcionada y que los cálculos pueden variar si se utiliza una muestra diferente o se considera un conjunto más amplio de datos."
   ]
  },
  {
   "cell_type": "markdown",
   "metadata": {},
   "source": [
    "Using the `crosstab` function, find the department that has the most hourly workers. "
   ]
  },
  {
   "cell_type": "code",
   "execution_count": 110,
   "metadata": {},
   "outputs": [
    {
     "data": {
      "text/html": [
       "<div>\n",
       "<style scoped>\n",
       "    .dataframe tbody tr th:only-of-type {\n",
       "        vertical-align: middle;\n",
       "    }\n",
       "\n",
       "    .dataframe tbody tr th {\n",
       "        vertical-align: top;\n",
       "    }\n",
       "\n",
       "    .dataframe thead th {\n",
       "        text-align: right;\n",
       "    }\n",
       "</style>\n",
       "<table border=\"1\" class=\"dataframe\">\n",
       "  <thead>\n",
       "    <tr style=\"text-align: right;\">\n",
       "      <th>Salary or Hourly</th>\n",
       "      <th>Hourly</th>\n",
       "      <th>Salary</th>\n",
       "    </tr>\n",
       "    <tr>\n",
       "      <th>Department</th>\n",
       "      <th></th>\n",
       "      <th></th>\n",
       "    </tr>\n",
       "  </thead>\n",
       "  <tbody>\n",
       "    <tr>\n",
       "      <th>STREETS &amp; SAN</th>\n",
       "      <td>1862</td>\n",
       "      <td>336</td>\n",
       "    </tr>\n",
       "  </tbody>\n",
       "</table>\n",
       "</div>"
      ],
      "text/plain": [
       "Salary or Hourly  Hourly  Salary\n",
       "Department                      \n",
       "STREETS & SAN       1862     336"
      ]
     },
     "execution_count": 110,
     "metadata": {},
     "output_type": "execute_result"
    }
   ],
   "source": [
    "# Your code here:\n",
    "\n",
    "# tabla de cruce\n",
    "cross_table = pd.crosstab(salaries['Department'], salaries['Salary or Hourly'])\n",
    "\n",
    "# Filtrar las filas donde la columna 'Salary or Hourly' sea la más alta\n",
    "\n",
    "department_with_most_hourly_workers = cross_table[cross_table['Hourly'] == cross_table['Hourly'].max()]\n",
    "\n",
    "department_with_most_hourly_workers"
   ]
  },
  {
   "cell_type": "code",
   "execution_count": 122,
   "metadata": {},
   "outputs": [
    {
     "data": {
      "text/html": [
       "<div>\n",
       "<style scoped>\n",
       "    .dataframe tbody tr th:only-of-type {\n",
       "        vertical-align: middle;\n",
       "    }\n",
       "\n",
       "    .dataframe tbody tr th {\n",
       "        vertical-align: top;\n",
       "    }\n",
       "\n",
       "    .dataframe thead th {\n",
       "        text-align: right;\n",
       "    }\n",
       "</style>\n",
       "<table border=\"1\" class=\"dataframe\">\n",
       "  <thead>\n",
       "    <tr style=\"text-align: right;\">\n",
       "      <th>Salary or Hourly</th>\n",
       "      <th>Hourly</th>\n",
       "      <th>Salary</th>\n",
       "    </tr>\n",
       "    <tr>\n",
       "      <th>Department</th>\n",
       "      <th></th>\n",
       "      <th></th>\n",
       "    </tr>\n",
       "  </thead>\n",
       "  <tbody>\n",
       "    <tr>\n",
       "      <th>ADMIN HEARNG</th>\n",
       "      <td>0</td>\n",
       "      <td>39</td>\n",
       "    </tr>\n",
       "    <tr>\n",
       "      <th>ANIMAL CONTRL</th>\n",
       "      <td>19</td>\n",
       "      <td>62</td>\n",
       "    </tr>\n",
       "    <tr>\n",
       "      <th>AVIATION</th>\n",
       "      <td>1082</td>\n",
       "      <td>547</td>\n",
       "    </tr>\n",
       "    <tr>\n",
       "      <th>BOARD OF ELECTION</th>\n",
       "      <td>0</td>\n",
       "      <td>107</td>\n",
       "    </tr>\n",
       "    <tr>\n",
       "      <th>BOARD OF ETHICS</th>\n",
       "      <td>0</td>\n",
       "      <td>8</td>\n",
       "    </tr>\n",
       "  </tbody>\n",
       "</table>\n",
       "</div>"
      ],
      "text/plain": [
       "Salary or Hourly   Hourly  Salary\n",
       "Department                       \n",
       "ADMIN HEARNG            0      39\n",
       "ANIMAL CONTRL          19      62\n",
       "AVIATION             1082     547\n",
       "BOARD OF ELECTION       0     107\n",
       "BOARD OF ETHICS         0       8"
      ]
     },
     "execution_count": 122,
     "metadata": {},
     "output_type": "execute_result"
    }
   ],
   "source": [
    "cross_table.head()"
   ]
  },
  {
   "cell_type": "markdown",
   "metadata": {},
   "source": [
    "The workers from the department with the most hourly workers have complained that their hourly wage is less than $35/hour. Using a one sample t-test, test this one-sided hypothesis at the 95% confidence level."
   ]
  },
  {
   "cell_type": "markdown",
   "metadata": {},
   "source": [
    "1. Definimos la hipótesis nula (H0) y la hipótesis alternativa (H1):\n",
    "\n",
    "- Hipótesis nula (H0): El salario por hora promedio de los trabajadores del departamento con la mayor cantidad de trabajadores por hora es de 35/hora o mayor.\n",
    "\n",
    "- Hipótesis alternativa (H1): El salario por hora promedio de los trabajadores del departamento con la mayor cantidad de trabajadores por hora es menor a 35/hora.\n",
    "\n",
    "2. Selecciona el nivel de significancia (α) para la prueba. En este caso, el nivel de confianza es del 95%, por lo que alpha = 0.05.\n",
    "\n",
    "4. Extrae los salarios por hora de los trabajadores del departamento con la mayor cantidad de trabajadores por hora.\n",
    "\n",
    "5. Realiza la prueba t de una muestra\n",
    "\n",
    "6. Compara el valor p con el nivel de significancia\n"
   ]
  },
  {
   "cell_type": "code",
   "execution_count": 124,
   "metadata": {},
   "outputs": [
    {
     "data": {
      "text/plain": [
       "7     35.60\n",
       "21    21.43\n",
       "24    35.60\n",
       "36    36.21\n",
       "39    35.60\n",
       "Name: Hourly Rate, dtype: float64"
      ]
     },
     "execution_count": 124,
     "metadata": {},
     "output_type": "execute_result"
    }
   ],
   "source": [
    "departamento_mayoria_trabajadores_hora = 'STREETS & SAN' # Reemplazar con el nombre correcto del departamento\n",
    "hourly_wages = salaries[(salaries['Department'] == departamento_mayoria_trabajadores_hora) & (salaries['Salary or Hourly'] == 'Hourly')]['Hourly Rate']\n",
    "hourly_wages.head()"
   ]
  },
  {
   "cell_type": "code",
   "execution_count": 128,
   "metadata": {},
   "outputs": [
    {
     "name": "stdout",
     "output_type": "stream",
     "text": [
      "Estadístico de prueba: -9.567447887848152\n",
      "Valor p: 1.6689265282353859e-21\n",
      "Conclusión: Rechazar la hipótesis nula. Hay evidencia para respaldar la afirmación de que el salario por hora promedio es menor a $35/hora.\n"
     ]
    }
   ],
   "source": [
    "# Hipótesis nula (H0)trabajadores 35/hora o mayor\n",
    "# Realizar la prueba t de una muestra\n",
    "\n",
    "null_mean = 35  # Media nula para la hipótesis\n",
    "alpha = 0.05  # Nivel de significancia\n",
    "\n",
    "t_statistic, p_value = stats.ttest_1samp(hourly_wages, null_mean, alternative='less')\n",
    "\n",
    "# Comparar el valor p con el nivel de significancia\n",
    "if p_value < alpha:\n",
    "    conclusion = \"Rechazar la hipótesis nula. Hay evidencia para respaldar la afirmación de que el salario por hora promedio es menor a $35/hora.\"\n",
    "else:\n",
    "    conclusion = \"No se puede rechazar la hipótesis nula. No hay suficiente evidencia para respaldar la afirmación de que el salario por hora promedio es menor a $35/hora.\"\n",
    "\n",
    "print(\"Estadístico de prueba:\", t_statistic)\n",
    "print(\"Valor p:\", p_value)\n",
    "print(\"Conclusión:\", conclusion)"
   ]
  },
  {
   "cell_type": "markdown",
   "metadata": {},
   "source": [
    "# Challenge 3 - Constructing Confidence Intervals\n",
    "\n",
    "While testing our hypothesis is a great way to gather empirical evidence for accepting or rejecting the hypothesis, another way to gather evidence is by creating a confidence interval. A confidence interval gives us information about the true mean of the population. So for a 95% confidence interval, we are 95% sure that the mean of the population is within the confidence interval. \n",
    ").\n",
    "\n",
    "To read more about confidence intervals, click [here](https://en.wikipedia.org/wiki/Confidence_interval).\n",
    "\n",
    "\n",
    "In the cell below, we will construct a 95% confidence interval for the mean hourly wage of all hourly workers. \n",
    "\n",
    "The confidence interval is computed in SciPy using the `t.interval` function. You can read more about this function [here](https://docs.scipy.org/doc/scipy-0.14.0/reference/generated/scipy.stats.t.html).\n",
    "\n",
    "To compute the confidence interval of the hourly wage, use the 0.95 for the confidence level, number of rows - 1 for degrees of freedom, the mean of the sample for the location parameter and the standard error for the scale. The standard error can be computed using [this](https://docs.scipy.org/doc/scipy/reference/generated/scipy.stats.sem.html) function in SciPy."
   ]
  },
  {
   "cell_type": "markdown",
   "metadata": {},
   "source": [
    "El intervalo de confianza se calcula en SciPY utilizando la función T. Interval. Puede leer más sobre esta función aquí.\n",
    "Para calcular el intervalo de confianza del salario por hora, use el 0.95 para el nivel de confianza, el número de filas - 1 para grados de libertad, la media de la muestra para el parámetro de ubicación y el error estándar para la escala.\n"
   ]
  },
  {
   "cell_type": "markdown",
   "metadata": {},
   "source": [
    "Now construct the 95% confidence interval for all salaried employeed in the police in the cell below."
   ]
  },
  {
   "cell_type": "code",
   "execution_count": 131,
   "metadata": {},
   "outputs": [
    {
     "data": {
      "text/plain": [
       "157.82445675052244"
      ]
     },
     "execution_count": 131,
     "metadata": {},
     "output_type": "execute_result"
    }
   ],
   "source": [
    "\n",
    "# Calcular la media y el error estándar\n",
    "mean = police_salaries.mean()\n",
    "std_error = stats.sem(police_salaries, nan_policy='omit')\n",
    "\n",
    "std_error"
   ]
  },
  {
   "cell_type": "code",
   "execution_count": 132,
   "metadata": {},
   "outputs": [
    {
     "name": "stdout",
     "output_type": "stream",
     "text": [
      "Intervalo de Confianza para los Salarios en el Departamento de Policía (nivel de confianza del 95%):\n",
      "Límite inferior: 86177.05631531784\n",
      "Límite superior: 86795.77269094894\n"
     ]
    }
   ],
   "source": [
    "\n",
    "# Calcular los límites inferior y superior del intervalo de confianza\n",
    "n = police_salaries.count()\n",
    "dof = n - 1\n",
    "confidence_level = 0.95\n",
    "critical_value = stats.t.ppf((1 + confidence_level) / 2, dof)\n",
    "margin_of_error = critical_value * std_error\n",
    "lower_bound = mean - margin_of_error\n",
    "upper_bound = mean + margin_of_error\n",
    "\n",
    "# Imprimir el intervalo de confianza\n",
    "print(\"Intervalo de Confianza para los Salarios en el Departamento de Policía (nivel de confianza del 95%):\")\n",
    "print(\"Límite inferior:\", lower_bound)\n",
    "print(\"Límite superior:\", upper_bound)"
   ]
  },
  {
   "cell_type": "markdown",
   "metadata": {},
   "source": [
    "# Challenge 4 - Hypothesis Tests of Proportions\n",
    "\n",
    "Another type of one sample test is a hypothesis test of proportions. In this test, we examine whether the proportion of a group in our sample is significantly different than a fraction. \n",
    "\n",
    "You can read more about one sample proportion tests [here](http://sphweb.bumc.bu.edu/otlt/MPH-Modules/BS/SAS/SAS6-CategoricalData/SAS6-CategoricalData2.html).\n",
    "\n",
    "In the cell below, use the `proportions_ztest` function from `statsmodels` to perform a hypothesis test that will determine whether the number of hourly workers in the City of Chicago is significantly different from 25% at the 95% confidence level."
   ]
  },
  {
   "cell_type": "markdown",
   "metadata": {},
   "source": [
    "Proporciones:\n",
    "    \n",
    "1. Definimos la hipótesis nula (H0) y la hipótesis alternativa (H1):\n",
    "\n",
    "- Hipótesis nula (H0): 0.25\n",
    "\n",
    "- Hipótesis alternativa (H1): Muy distante a 0.25\n",
    "\n",
    "2. Selecciona el nivel de significancia (α) para la prueba. En este caso, el nivel de confianza es del 95%, por lo que alpha = 0.05.\n",
    "\n",
    "4. Extrae número de trabajadores por horas y el número total de trabajadores.\n",
    "\n",
    "5. Realiza la prueba t de una muestra\n",
    "\n",
    "6. Compara el valor p con el nivel de significancia"
   ]
  },
  {
   "cell_type": "code",
   "execution_count": 133,
   "metadata": {},
   "outputs": [],
   "source": [
    "# Your code here:\n",
    "from statsmodels.stats.proportion import proportions_ztest\n"
   ]
  },
  {
   "cell_type": "code",
   "execution_count": 136,
   "metadata": {},
   "outputs": [
    {
     "data": {
      "text/plain": [
       "33183"
      ]
     },
     "execution_count": 136,
     "metadata": {},
     "output_type": "execute_result"
    }
   ],
   "source": [
    "# número de trabajadores por horas y el número total de trabajadores\n",
    "hourly_count = salaries[salaries['Salary or Hourly'] == 'Hourly'].shape[0]\n",
    "total_count = salaries.shape[0]\n",
    "total_count"
   ]
  },
  {
   "cell_type": "code",
   "execution_count": 137,
   "metadata": {},
   "outputs": [],
   "source": [
    "# proporción nula de la hipótesis y el nivel de significancia\n",
    "null_hypothesis_proportion = 0.25  # 25%\n",
    "confidence_level = 0.95"
   ]
  },
  {
   "cell_type": "code",
   "execution_count": 141,
   "metadata": {},
   "outputs": [
    {
     "name": "stdout",
     "output_type": "stream",
     "text": [
      "0.0004481127249057967\n",
      "-3.5099964213703005\n"
     ]
    }
   ],
   "source": [
    "# Realizar la prueba de hipótesis\n",
    "statistic, p_value = proportions_ztest(hourly_count, total_count, \n",
    "                                       value=null_hypothesis_proportion, alternative='two-sided')\n",
    "print(p_value)\n",
    "print(statistic)"
   ]
  },
  {
   "cell_type": "code",
   "execution_count": 142,
   "metadata": {},
   "outputs": [
    {
     "name": "stdout",
     "output_type": "stream",
     "text": [
      "Resultados de la Prueba de Hipótesis:\n",
      "Estadístico: -3.5099964213703005\n",
      "valor p: 0.0004481127249057967\n",
      "Conclusión: Rechazar la hipótesis nula. El número de trabajadores por horas es significativamente diferente del 25%.\n"
     ]
    }
   ],
   "source": [
    "# Comparar el valor p con el nivel de significancia\n",
    "if p_value < 1-confidence_level:\n",
    "    conclusion = \"Rechazar la hipótesis nula. El número de trabajadores por horas es significativamente diferente del 25%.\"\n",
    "else:\n",
    "    conclusion = \"No se puede rechazar la hipótesis nula. El número de trabajadores por horas no es significativamente diferente del 25%.\"\n",
    "\n",
    "# Imprimir los resultados\n",
    "print(\"Resultados de la Prueba de Hipótesis:\")\n",
    "print(\"Estadístico:\", statistic)\n",
    "print(\"valor p:\", p_value)\n",
    "print(\"Conclusión:\", conclusion)"
   ]
  }
 ],
 "metadata": {
  "kernelspec": {
   "display_name": "Python 3 (ipykernel)",
   "language": "python",
   "name": "python3"
  },
  "language_info": {
   "codemirror_mode": {
    "name": "ipython",
    "version": 3
   },
   "file_extension": ".py",
   "mimetype": "text/x-python",
   "name": "python",
   "nbconvert_exporter": "python",
   "pygments_lexer": "ipython3",
   "version": "3.10.9"
  }
 },
 "nbformat": 4,
 "nbformat_minor": 2
}
