{
 "cells": [
  {
   "cell_type": "markdown",
   "metadata": {},
   "source": [
    "# Before your start:\n",
    "- Read the README.md file\n",
    "- Comment as much as you can and use the resources (README.md file)\n",
    "- Happy learning!"
   ]
  },
  {
   "cell_type": "code",
   "execution_count": 1,
   "metadata": {},
   "outputs": [],
   "source": [
    "import numpy as np\n",
    "import pandas as pd\n"
   ]
  },
  {
   "cell_type": "markdown",
   "metadata": {},
   "source": [
    "# Challenge 1 - Exploring the Data\n",
    "\n",
    "In this challenge, we will examine all salaries of employees of the City of Chicago. We will start by loading the dataset and examining its contents"
   ]
  },
  {
   "cell_type": "code",
   "execution_count": 3,
   "metadata": {},
   "outputs": [],
   "source": [
    "# Run this code:\n",
    "\n",
    "salaries = pd.read_csv('../Current_Employee_Names__Salaries__and_Position_Titles.csv')\n",
    "\n"
   ]
  },
  {
   "cell_type": "markdown",
   "metadata": {},
   "source": [
    "Examine the `salaries` dataset using the `head` function below."
   ]
  },
  {
   "cell_type": "code",
   "execution_count": 4,
   "metadata": {},
   "outputs": [
    {
     "data": {
      "text/html": [
       "<div>\n",
       "<style scoped>\n",
       "    .dataframe tbody tr th:only-of-type {\n",
       "        vertical-align: middle;\n",
       "    }\n",
       "\n",
       "    .dataframe tbody tr th {\n",
       "        vertical-align: top;\n",
       "    }\n",
       "\n",
       "    .dataframe thead th {\n",
       "        text-align: right;\n",
       "    }\n",
       "</style>\n",
       "<table border=\"1\" class=\"dataframe\">\n",
       "  <thead>\n",
       "    <tr style=\"text-align: right;\">\n",
       "      <th></th>\n",
       "      <th>Name</th>\n",
       "      <th>Job Titles</th>\n",
       "      <th>Department</th>\n",
       "      <th>Full or Part-Time</th>\n",
       "      <th>Salary or Hourly</th>\n",
       "      <th>Typical Hours</th>\n",
       "      <th>Annual Salary</th>\n",
       "      <th>Hourly Rate</th>\n",
       "    </tr>\n",
       "  </thead>\n",
       "  <tbody>\n",
       "    <tr>\n",
       "      <th>0</th>\n",
       "      <td>AARON,  JEFFERY M</td>\n",
       "      <td>SERGEANT</td>\n",
       "      <td>POLICE</td>\n",
       "      <td>F</td>\n",
       "      <td>Salary</td>\n",
       "      <td>NaN</td>\n",
       "      <td>101442.0</td>\n",
       "      <td>NaN</td>\n",
       "    </tr>\n",
       "    <tr>\n",
       "      <th>1</th>\n",
       "      <td>AARON,  KARINA</td>\n",
       "      <td>POLICE OFFICER (ASSIGNED AS DETECTIVE)</td>\n",
       "      <td>POLICE</td>\n",
       "      <td>F</td>\n",
       "      <td>Salary</td>\n",
       "      <td>NaN</td>\n",
       "      <td>94122.0</td>\n",
       "      <td>NaN</td>\n",
       "    </tr>\n",
       "    <tr>\n",
       "      <th>2</th>\n",
       "      <td>AARON,  KIMBERLEI R</td>\n",
       "      <td>CHIEF CONTRACT EXPEDITER</td>\n",
       "      <td>GENERAL SERVICES</td>\n",
       "      <td>F</td>\n",
       "      <td>Salary</td>\n",
       "      <td>NaN</td>\n",
       "      <td>101592.0</td>\n",
       "      <td>NaN</td>\n",
       "    </tr>\n",
       "    <tr>\n",
       "      <th>3</th>\n",
       "      <td>ABAD JR,  VICENTE M</td>\n",
       "      <td>CIVIL ENGINEER IV</td>\n",
       "      <td>WATER MGMNT</td>\n",
       "      <td>F</td>\n",
       "      <td>Salary</td>\n",
       "      <td>NaN</td>\n",
       "      <td>110064.0</td>\n",
       "      <td>NaN</td>\n",
       "    </tr>\n",
       "    <tr>\n",
       "      <th>4</th>\n",
       "      <td>ABASCAL,  REECE E</td>\n",
       "      <td>TRAFFIC CONTROL AIDE-HOURLY</td>\n",
       "      <td>OEMC</td>\n",
       "      <td>P</td>\n",
       "      <td>Hourly</td>\n",
       "      <td>20.0</td>\n",
       "      <td>NaN</td>\n",
       "      <td>19.86</td>\n",
       "    </tr>\n",
       "  </tbody>\n",
       "</table>\n",
       "</div>"
      ],
      "text/plain": [
       "                  Name                              Job Titles  \\\n",
       "0    AARON,  JEFFERY M                                SERGEANT   \n",
       "1      AARON,  KARINA   POLICE OFFICER (ASSIGNED AS DETECTIVE)   \n",
       "2  AARON,  KIMBERLEI R                CHIEF CONTRACT EXPEDITER   \n",
       "3  ABAD JR,  VICENTE M                       CIVIL ENGINEER IV   \n",
       "4    ABASCAL,  REECE E             TRAFFIC CONTROL AIDE-HOURLY   \n",
       "\n",
       "         Department Full or Part-Time Salary or Hourly  Typical Hours  \\\n",
       "0            POLICE                 F           Salary            NaN   \n",
       "1            POLICE                 F           Salary            NaN   \n",
       "2  GENERAL SERVICES                 F           Salary            NaN   \n",
       "3       WATER MGMNT                 F           Salary            NaN   \n",
       "4              OEMC                 P           Hourly           20.0   \n",
       "\n",
       "   Annual Salary  Hourly Rate  \n",
       "0       101442.0          NaN  \n",
       "1        94122.0          NaN  \n",
       "2       101592.0          NaN  \n",
       "3       110064.0          NaN  \n",
       "4            NaN        19.86  "
      ]
     },
     "execution_count": 4,
     "metadata": {},
     "output_type": "execute_result"
    }
   ],
   "source": [
    "salaries.head()"
   ]
  },
  {
   "cell_type": "markdown",
   "metadata": {},
   "source": [
    "We see from looking at the `head` function that there is quite a bit of missing data. Let's examine how much missing data is in each column. Produce this output in the cell below"
   ]
  },
  {
   "cell_type": "code",
   "execution_count": 5,
   "metadata": {},
   "outputs": [
    {
     "data": {
      "text/plain": [
       "Name                     0\n",
       "Job Titles               0\n",
       "Department               0\n",
       "Full or Part-Time        0\n",
       "Salary or Hourly         0\n",
       "Typical Hours        25161\n",
       "Annual Salary         8022\n",
       "Hourly Rate          25161\n",
       "dtype: int64"
      ]
     },
     "execution_count": 5,
     "metadata": {},
     "output_type": "execute_result"
    }
   ],
   "source": [
    "salaries.isnull().sum()\n"
   ]
  },
  {
   "cell_type": "markdown",
   "metadata": {},
   "source": [
    "Let's also look at the count of hourly vs. salaried employees. Write the code in the cell below"
   ]
  },
  {
   "cell_type": "code",
   "execution_count": 6,
   "metadata": {},
   "outputs": [
    {
     "data": {
      "text/plain": [
       "Salary    25161\n",
       "Hourly     8022\n",
       "Name: Salary or Hourly, dtype: int64"
      ]
     },
     "execution_count": 6,
     "metadata": {},
     "output_type": "execute_result"
    }
   ],
   "source": [
    "salaries['Salary or Hourly'].value_counts()\n",
    "\n"
   ]
  },
  {
   "cell_type": "markdown",
   "metadata": {},
   "source": [
    "What this information indicates is that the table contains information about two types of employees - salaried and hourly. Some columns apply only to one type of employee while other columns only apply to another kind. This is why there are so many missing values. Therefore, we will not do anything to handle the missing values."
   ]
  },
  {
   "cell_type": "markdown",
   "metadata": {},
   "source": [
    "There are different departments in the city. List all departments and the count of employees in each department."
   ]
  },
  {
   "cell_type": "code",
   "execution_count": 8,
   "metadata": {},
   "outputs": [],
   "source": [
    "department_counts = salaries['Department'].value_counts()\n",
    "#print(department_counts)"
   ]
  },
  {
   "cell_type": "markdown",
   "metadata": {},
   "source": [
    "# Challenge 2 - Hypothesis Tests\n",
    "\n",
    "In this section of the lab, we will test whether the hourly wage of all hourly workers is significantly different from $30/hr. Import the correct one sample test function from scipy and perform the hypothesis test for a 95% two sided confidence interval."
   ]
  },
  {
   "cell_type": "code",
   "execution_count": 9,
   "metadata": {},
   "outputs": [
    {
     "name": "stdout",
     "output_type": "stream",
     "text": [
      "El salario por hora de los trabajadores por hora es significativamente diferente de $30/hr.\n"
     ]
    }
   ],
   "source": [
    "from scipy.stats import ttest_1samp\n",
    "\n",
    "# Filtrar los datos para incluir solo los empleados por hora\n",
    "hourly_wage = salaries[salaries['Salary or Hourly'] == 'Hourly']['Hourly Rate']\n",
    "\n",
    "# Realizar la prueba de hipótesis\n",
    "test_result = ttest_1samp(hourly_wage, 30) \n",
    "#ttest_1samp es una función de la biblioteca scipy.stats que realiza una prueba de hipótesis t de una muestra. \n",
    "#Esta prueba se utiliza para determinar si la media de una muestra es igual a una cierta hipótesis nula.\n",
    "#hourly_wage: Es el conjunto de datos,en este caso, se refiere a los salarios por hora de los empleados por hora.\n",
    "#30,es la hipótesis nula que estamos probando. En este caso,si la media de los salarios por hora es igual a $30/hr.\n",
    "#test_result: Es la variable en la que almacenamos el resultado de la prueba de hipótesis. \n",
    "#Al llamar a ttest_1samp(hourly_wage, 30), la función devuelve un objeto que contiene información sobre la prueba, como el valor t, el valor p y otros estadísticos relevantes.\n",
    "\n",
    "#Si el valor p es menor que un nivel de significancia dado (por ejemplo, 0.05), se considera que el resultado de la prueba \n",
    "#es significativo y se rechaza la hipótesis nula.\n",
    "p_value = test_result.pvalue\n",
    "alpha = 0.05\n",
    "\n",
    "if p_value < alpha:\n",
    "    print(\"El salario por hora de los trabajadores por hora es significativamente diferente de $30/hr.\")\n",
    "else:\n",
    "    print(\"No hay suficiente evidencia para afirmar que el salario por hora de los trabajadores por hora es significativamente diferente de $30/hr.\")"
   ]
  },
  {
   "cell_type": "markdown",
   "metadata": {},
   "source": [
    "We are also curious about salaries in the police force. The chief of police in Chicago claimed in a press briefing that salaries this year are higher than last year's mean of $86000/year a year for all salaried employees. Test this one sided hypothesis using a 95% confidence interval.\n",
    "\n",
    "Hint: A one tailed test has a p-value that is half of the two tailed p-value. If our hypothesis is greater than, then to reject, the test statistic must also be positive."
   ]
  },
  {
   "cell_type": "code",
   "execution_count": 10,
   "metadata": {},
   "outputs": [
    {
     "name": "stdout",
     "output_type": "stream",
     "text": [
      "Los salarios en el cuerpo de policía son significativamente mayores que el promedio del año pasado.\n"
     ]
    }
   ],
   "source": [
    "# Filtrar los datos para incluir solo los empleados asalariados en el cuerpo de policía\n",
    "police_salaries = salaries[(salaries['Salary or Hourly'] == 'Salary') & (salaries['Department'] == 'POLICE')]['Annual Salary']\n",
    "\n",
    "# Realizar la prueba de hipótesis\n",
    "test_result = ttest_1samp(police_salaries, 86000)\n",
    "\n",
    "# Obtener el valor p\n",
    "p_value = test_result.pvalue / 2   # Dividir por 2 para una prueba unidireccional\n",
    "\n",
    "# Verificar el resultado de la prueba\n",
    "alpha = 0.05\n",
    "\n",
    "if p_value < alpha and test_result.statistic > 0:\n",
    "    print(\"Los salarios en el cuerpo de policía son significativamente mayores que el promedio del año pasado.\")\n",
    "else:\n",
    "    print(\"No hay suficiente evidencia para afirmar que los salarios en el cuerpo de policía son significativamente mayores que el promedio del año pasado.\")"
   ]
  },
  {
   "cell_type": "markdown",
   "metadata": {},
   "source": [
    "Using the `crosstab` function, find the department that has the most hourly workers. "
   ]
  },
  {
   "cell_type": "code",
   "execution_count": 11,
   "metadata": {},
   "outputs": [
    {
     "name": "stdout",
     "output_type": "stream",
     "text": [
      "El departamento con la mayoría de los empleados por hora es: STREETS & SAN\n"
     ]
    }
   ],
   "source": [
    "import pandas as pd\n",
    "\n",
    "# Crear una tabla cruzada entre las columnas 'Department' y 'Salary or Hourly'\n",
    "cross_table = pd.crosstab(salaries['Department'], salaries['Salary or Hourly'])\n",
    "\n",
    "# Filtrar la tabla para incluir solo los empleados por hora\n",
    "hourly_workers = cross_table['Hourly']\n",
    "\n",
    "# Encontrar el departamento con la mayoría de los empleados por hora\n",
    "department_with_most_hourly_workers = hourly_workers.idxmax()\n",
    "\n",
    "# Imprimir el resultado\n",
    "print(\"El departamento con la mayoría de los empleados por hora es:\", department_with_most_hourly_workers)\n"
   ]
  },
  {
   "cell_type": "markdown",
   "metadata": {},
   "source": [
    "The workers from the department with the most hourly workers have complained that their hourly wage is less than $35/hour. Using a one sample t-test, test this one-sided hypothesis at the 95% confidence level."
   ]
  },
  {
   "cell_type": "code",
   "execution_count": 12,
   "metadata": {},
   "outputs": [
    {
     "name": "stdout",
     "output_type": "stream",
     "text": [
      "Hay suficiente evidencia para afirmar que el salario por hora de los trabajadores del departamento con la mayoría de empleados por hora es inferior a $35/hora.\n"
     ]
    }
   ],
   "source": [
    "# Filtrar los datos para incluir solo los empleados asalariados del departamento con la mayoría de empleados por hora\n",
    "department_with_most_hourly_workers_salaries = salaries[(salaries['Salary or Hourly'] == 'Hourly') & (salaries['Department'] == department_with_most_hourly_workers)]['Hourly Rate']\n",
    "\n",
    "# Realizar la prueba de hipótesis unidireccional\n",
    "test_result = ttest_1samp(department_with_most_hourly_workers_salaries, 35)\n",
    "\n",
    "# Obtener el valor p\n",
    "p_value = test_result.pvalue / 2\n",
    "\n",
    "# Verificar el resultado de la prueba\n",
    "alpha = 0.05\n",
    "\n",
    "if p_value < alpha and test_result.statistic < 0:\n",
    "    print(\"Hay suficiente evidencia para afirmar que el salario por hora de los trabajadores del departamento con la mayoría de empleados por hora es inferior a $35/hora.\")\n",
    "else:\n",
    "    print(\"No hay suficiente evidencia para afirmar que el salario por hora de los trabajadores del departamento con la mayoría de empleados por hora es inferior a $35/hora.\")\n"
   ]
  },
  {
   "cell_type": "markdown",
   "metadata": {},
   "source": [
    "# Challenge 3 - Constructing Confidence Intervals\n",
    "\n",
    "While testing our hypothesis is a great way to gather empirical evidence for accepting or rejecting the hypothesis, another way to gather evidence is by creating a confidence interval. A confidence interval gives us information about the true mean of the population. So for a 95% confidence interval, we are 95% sure that the mean of the population is within the confidence interval. \n",
    ").\n",
    "\n",
    "To read more about confidence intervals, click [here](https://en.wikipedia.org/wiki/Confidence_interval).\n",
    "\n",
    "\n",
    "In the cell below, we will construct a 95% confidence interval for the mean hourly wage of all hourly workers. \n",
    "\n",
    "The confidence interval is computed in SciPy using the `t.interval` function. You can read more about this function [here](https://docs.scipy.org/doc/scipy-0.14.0/reference/generated/scipy.stats.t.html).\n",
    "\n",
    "To compute the confidence interval of the hourly wage, use the 0.95 for the confidence level, number of rows - 1 for degrees of freedom, the mean of the sample for the location parameter and the standard error for the scale. The standard error can be computed using [this](https://docs.scipy.org/doc/scipy/reference/generated/scipy.stats.sem.html) function in SciPy."
   ]
  },
  {
   "cell_type": "code",
   "execution_count": 13,
   "metadata": {},
   "outputs": [
    {
     "name": "stdout",
     "output_type": "stream",
     "text": [
      "El intervalo de confianza del 95% para el salario por hora es: (32.52345834488425, 33.05365708767623)\n"
     ]
    }
   ],
   "source": [
    "import scipy.stats as stats\n",
    "\n",
    "# Obtener los trabajadores por hora\n",
    "hourly_wage = salaries[salaries['Salary or Hourly'] == 'Hourly']['Hourly Rate']\n",
    "\n",
    "# Calcular el promedio y el error estándar del salario por hora\n",
    "mean_hourly = hourly_wage.mean()\n",
    "std_error = stats.sem(hourly_wage)\n",
    "\n",
    "# Calcular el intervalo de confianza del 95% para el salario por hora\n",
    "confidence_interval = stats.t.interval(0.95, len(hourly_wage)-1, mean_hourly, std_error)\n",
    "\n",
    "# Imprimir el resultado\n",
    "print(\"El intervalo de confianza del 95% para el salario por hora es:\", confidence_interval)\n"
   ]
  },
  {
   "cell_type": "markdown",
   "metadata": {},
   "source": [
    "Now construct the 95% confidence interval for all salaried employeed in the police in the cell below."
   ]
  },
  {
   "cell_type": "code",
   "execution_count": 14,
   "metadata": {},
   "outputs": [
    {
     "name": "stdout",
     "output_type": "stream",
     "text": [
      "El intervalo de confianza del 95% para los salarios en el departamento de policía es: (86177.05631531784, 86795.77269094894)\n"
     ]
    }
   ],
   "source": [
    "import scipy.stats as stats\n",
    "\n",
    "# Filtrar los datos para incluir solo los empleados asalariados en el departamento de policía\n",
    "police_salaries = salaries[(salaries['Salary or Hourly'] == 'Salary') & (salaries['Department'] == 'POLICE')]['Annual Salary']\n",
    "\n",
    "# Calcular el promedio y el error estándar de los salarios en el departamento de policía\n",
    "mean_salary = police_salaries.mean()\n",
    "std_error = stats.sem(police_salaries)\n",
    "\n",
    "# Calcular el intervalo de confianza del 95% para los salarios en el departamento de policía\n",
    "confidence_interval = stats.t.interval(0.95, len(police_salaries)-1, mean_salary, std_error)\n",
    "\n",
    "# Imprimir el resultado\n",
    "print(\"El intervalo de confianza del 95% para los salarios en el departamento de policía es:\", confidence_interval)\n"
   ]
  },
  {
   "cell_type": "markdown",
   "metadata": {},
   "source": [
    "# Challenge 4 - Hypothesis Tests of Proportions\n",
    "\n",
    "Another type of one sample test is a hypothesis test of proportions. In this test, we examine whether the proportion of a group in our sample is significantly different than a fraction. \n",
    "\n",
    "You can read more about one sample proportion tests [here](http://sphweb.bumc.bu.edu/otlt/MPH-Modules/BS/SAS/SAS6-CategoricalData/SAS6-CategoricalData2.html).\n",
    "\n",
    "In the cell below, use the `proportions_ztest` function from `statsmodels` to perform a hypothesis test that will determine whether the number of hourly workers in the City of Chicago is significantly different from 25% at the 95% confidence level."
   ]
  },
  {
   "cell_type": "code",
   "execution_count": 15,
   "metadata": {},
   "outputs": [
    {
     "name": "stdout",
     "output_type": "stream",
     "text": [
      "Hay suficiente evidencia para afirmar que el número de empleados por hora en la Ciudad de Chicago es significativamente diferente al 25%.\n"
     ]
    }
   ],
   "source": [
    "import statsmodels.api as sm\n",
    "\n",
    "# Contar el número de empleados por hora\n",
    "hourly_workers = len(salaries[salaries['Salary or Hourly'] == 'Hourly'])\n",
    "\n",
    "# Contar el número total de empleados\n",
    "total_employees = len(salaries)\n",
    "\n",
    "# Realizar la prueba de hipótesis de proporciones\n",
    "test_result = sm.stats.proportions_ztest(hourly_workers, total_employees, value=0.25)\n",
    "\n",
    "# Obtener el valor p\n",
    "p_value = test_result[1]\n",
    "\n",
    "# Verificar el resultado de la prueba\n",
    "alpha = 0.05\n",
    "\n",
    "if p_value < alpha:\n",
    "    print(\"Hay suficiente evidencia para afirmar que el número de empleados por hora en la Ciudad de Chicago es significativamente diferente al 25%.\")\n",
    "else:\n",
    "    print(\"No hay suficiente evidencia para afirmar que el número de empleados por hora en la Ciudad de Chicago es significativamente diferente al 25%.\")\n"
   ]
  }
 ],
 "metadata": {
  "kernelspec": {
   "display_name": "Python 3 (ipykernel)",
   "language": "python",
   "name": "python3"
  },
  "language_info": {
   "codemirror_mode": {
    "name": "ipython",
    "version": 3
   },
   "file_extension": ".py",
   "mimetype": "text/x-python",
   "name": "python",
   "nbconvert_exporter": "python",
   "pygments_lexer": "ipython3",
   "version": "3.10.9"
  }
 },
 "nbformat": 4,
 "nbformat_minor": 2
}
